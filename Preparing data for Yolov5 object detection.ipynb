{
 "cells": [
  {
   "cell_type": "markdown",
   "metadata": {},
   "source": [
    "# Loading images paths"
   ]
  },
  {
   "cell_type": "code",
   "execution_count": 4,
   "metadata": {},
   "outputs": [],
   "source": [
    "import os\n",
    "import cv2\n",
    "\n",
    "image_files = []\n",
    "test_image_files=[]\n",
    "train_path=r'F:\\mohamed\\4th_year_new\\CV\\project\\SignatureObjectDetection\\TrainImages'\n",
    "test_path=r'F:\\mohamed\\4th_year_new\\CV\\project\\SignatureObjectDetection\\TestImages'\n",
    "imgs=os.listdir(train_path)\n",
    "test_imgs=os.listdir(test_path)\n",
    "for img in imgs :\n",
    "    image_path=os.path.join(train_path,img)\n",
    "    image_files.append(image_path)\n",
    "    \n",
    "for img in test_imgs :\n",
    "    image_path=os.path.join(test_path,img)\n",
    "    test_image_files.append(image_path)"
   ]
  },
  {
   "cell_type": "markdown",
   "metadata": {},
   "source": [
    "# As an initial step please can copy the whole folders of labels files with different names to ease the process of preparing\n",
    "\n",
    "considering `Test_label` to be our source folder\n",
    "and `ground truth` to be our destination folder"
   ]
  },
  {
   "cell_type": "markdown",
   "metadata": {},
   "source": [
    "# convert and reading files of labels"
   ]
  },
  {
   "cell_type": "markdown",
   "metadata": {},
   "source": [
    "***"
   ]
  },
  {
   "cell_type": "code",
   "execution_count": 34,
   "metadata": {},
   "outputs": [],
   "source": [
    "t_path=r'F:\\mohamed\\4th_year_new\\CV\\project\\yolov3 to try\\TestGroundTruth'\n",
    "\n",
    "imgs_labels=os.listdir(t_path)\n",
    "for t in imgs_labels :\n",
    "    txt_path=os.path.join(t_path,t)\n",
    "    with open(txt_path, \"r+\") as file:   \n",
    "        file.seek(0) \n",
    "\n",
    "        # to erase all data \n",
    "        file.truncate() \n",
    "#####\n",
    "t_path=r'F:\\mohamed\\4th_year_new\\CV\\project\\yolov3 to try\\Test_label'\n",
    "newt_path=r'F:\\mohamed\\4th_year_new\\CV\\project\\yolov3 to try\\TestGroundTruth'\n",
    "\n",
    "imgs_labels=os.listdir(t_path)\n",
    "for t ,img in zip(imgs_labels,test_image_files):\n",
    "    txt_path=os.path.join(t_path,t)\n",
    "    newtest_path=os.path.join(newt_path,t)\n",
    "    \n",
    "    image = cv2.imread(img)\n",
    "    width,height,_ = image.shape\n",
    "    with open(txt_path, \"r+\") as file,open(newtest_path, 'r+') as f2:\n",
    "       \n",
    "       lines=file.readlines()\n",
    "       for line in lines:\n",
    "            line=line.split(',')\n",
    "            \n",
    "            ######################################\n",
    "            x1,y1 ,x2 ,y2=line\n",
    "            x1,y1 ,x2 ,y2=float(x1), float(y1), float(x2), float(y2)\n",
    "            \n",
    "            x = ((x1 + x2)/2.0)\n",
    "            y = ((y1 + y2)/2.0)\n",
    "            w =x2 - x1\n",
    "            h =y2 - y1\n",
    "            #print(\"before norm\",x,y,w,h)\n",
    "            dw = 1./width\n",
    "            dh = 1./height\n",
    "            x = x*dw\n",
    "            w = w*dw\n",
    "            y = y*dh\n",
    "            h = h*dh\n",
    "            \n",
    "            ######################################\n",
    "            line=\"0 {} {} {} {}\\n\".format(x, y, w, h)\n",
    "            #print(line)\n",
    "            f2.write(line)"
   ]
  },
  {
   "cell_type": "markdown",
   "metadata": {},
   "source": [
    "## delete content"
   ]
  },
  {
   "cell_type": "code",
   "execution_count": 35,
   "metadata": {},
   "outputs": [],
   "source": [
    "t_path=r'F:\\mohamed\\4th_year_new\\CV\\project\\yolov3 to try\\TrainGroundTruth'\n",
    "\n",
    "imgs_labels=os.listdir(t_path)\n",
    "for t in imgs_labels :\n",
    "    txt_path=os.path.join(t_path,t)\n",
    "    with open(txt_path, \"r+\") as file:   \n",
    "        file.seek(0) \n",
    "\n",
    "        # to erase all data \n",
    "        file.truncate() "
   ]
  },
  {
   "cell_type": "code",
   "execution_count": 36,
   "metadata": {},
   "outputs": [],
   "source": [
    "\n",
    "#####\n",
    "t_path=r'F:\\mohamed\\4th_year_new\\CV\\project\\yolov3 to try\\Train_label'\n",
    "newt_path=r'F:\\mohamed\\4th_year_new\\CV\\project\\yolov3 to try\\TrainGroundTruth'\n",
    "\n",
    "imgs_labels=os.listdir(t_path)\n",
    "for t ,img in zip(imgs_labels,image_files) :\n",
    "    txt_path=os.path.join(t_path,t)\n",
    "    newtest_path=os.path.join(newt_path,t)\n",
    "    \n",
    "    image = cv2.imread(img)\n",
    "    width,height,_ = image.shape\n",
    "    with open(txt_path, \"r+\") as file,open(newtest_path, 'r+') as f2:\n",
    "       \n",
    "       lines=file.readlines()\n",
    "       for line in lines:\n",
    "            line=line.split(',')\n",
    "\n",
    "            ######################################\n",
    "            x1,y1 ,x2 ,y2=line\n",
    "            #print(\"old\",x1,y1 ,x2 ,y2)\n",
    "            x1,y1 ,x2 ,y2=float(x1), float(y1), float(x2), float(y2)\n",
    "            \n",
    "            x = ((x1 + x2)/2.0)\n",
    "            y = ((y1 + y2)/2.0)\n",
    "            w =x2 - x1\n",
    "            h =y2 - y1\n",
    "            #print(\"before norm\",x,y,w,h)\n",
    "            dw = 1./width\n",
    "            dh = 1./height\n",
    "            x = x*dw\n",
    "            w = w*dw\n",
    "            y = y*dh\n",
    "            h = h*dh\n",
    "            #print(\"after norm\",x,y,w,h)\n",
    "            #print(\"*\"*50)\n",
    "            ######################################\n",
    "            line=\"0 {} {} {} {}\\n\".format(x, y, w, h)\n",
    "            f2.write(line)"
   ]
  }
 ],
 "metadata": {
  "kernelspec": {
   "display_name": "Python [conda env:py39]",
   "language": "python",
   "name": "conda-env-py39-py"
  },
  "language_info": {
   "codemirror_mode": {
    "name": "ipython",
    "version": 3
   },
   "file_extension": ".py",
   "mimetype": "text/x-python",
   "name": "python",
   "nbconvert_exporter": "python",
   "pygments_lexer": "ipython3",
   "version": "3.10.4"
  }
 },
 "nbformat": 4,
 "nbformat_minor": 4
}
